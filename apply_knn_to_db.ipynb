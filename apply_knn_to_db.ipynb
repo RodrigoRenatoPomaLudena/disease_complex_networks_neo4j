{
 "cells": [
  {
   "cell_type": "code",
   "execution_count": 1,
   "metadata": {},
   "outputs": [],
   "source": [
    "import json\n",
    "import pandas as pd\n",
    "import numpy as np\n",
    "from numpy.linalg import norm\n",
    "from neo4j import GraphDatabase"
   ]
  },
  {
   "cell_type": "code",
   "execution_count": 2,
   "metadata": {},
   "outputs": [],
   "source": [
    "with open('config.json', 'r') as f:\n",
    "    credentials = json.load(f)\n",
    "\n",
    "uri = credentials['uri']\n",
    "user = credentials['user']\n",
    "password = credentials['password']\n",
    "driver = GraphDatabase.driver(uri, auth=(user, password))\n",
    "#session = driver.session()"
   ]
  },
  {
   "cell_type": "code",
   "execution_count": 3,
   "metadata": {},
   "outputs": [],
   "source": [
    "def clear_nodes(driver):\n",
    "    session = driver.session()\n",
    "    query = \"\"\"\n",
    "        MATCH (p:Patient)\n",
    "        DETACH DELETE p\n",
    "    \"\"\"\n",
    "    with driver.session() as session:\n",
    "        tx = session.begin_transaction()\n",
    "        tx.run(query)\n",
    "        tx.commit()"
   ]
  },
  {
   "cell_type": "code",
   "execution_count": 4,
   "metadata": {},
   "outputs": [],
   "source": [
    "def get_data(driver):\n",
    "    session = driver.session()\n",
    "    result = []\n",
    "    query = \"\"\"\n",
    "            MATCH (d:Disease)-[]-(u:User)-[r]-(s:Symptom) \n",
    "            RETURN u.user AS user, d.disease AS disease, collect(s.symptom) AS symptoms, collect(toIntegerOrNull(s.weight)) AS weights\n",
    "        \"\"\"\n",
    "    with session as s:\n",
    "        tx = s.begin_transaction()\n",
    "        for row in tx.run(query):\n",
    "            try:\n",
    "                if row:\n",
    "                    user = (row[0]).strip()\n",
    "                    disease = (row[1]).strip()\n",
    "                    symptoms = row[2]\n",
    "                    weights = row[3]\n",
    "                    node_dict = {\"user\": user, \"disease\": disease, \"symptoms\": symptoms, \"weights\": weights}\n",
    "                    result.append(node_dict)\n",
    "            except Exception as e:\n",
    "                print(e, row)\n",
    "        tx.commit()\n",
    "    return result"
   ]
  },
  {
   "cell_type": "code",
   "execution_count": 5,
   "metadata": {},
   "outputs": [],
   "source": [
    "def create_node(driver, node_list):\n",
    "    session = driver.session()\n",
    "    query = \"\"\"\n",
    "            MERGE (p:Patient {patient: $user, disease: $disease, symptoms: $symptoms, weights: $weights})\n",
    "        \"\"\"\n",
    "    i = 0\n",
    "    tx = session.begin_transaction()\n",
    "    with driver.session() as session:\n",
    "        for node in node_list:\n",
    "            try:\n",
    "                tx.run(query, node)\n",
    "                i += 1\n",
    "                if i % 1000 == 0:\n",
    "                    tx.commit()\n",
    "                    print(f\"{i} lines processed\")\n",
    "                    tx = session.begin_transaction()\n",
    "            except Exception as e:\n",
    "                print(e, node)\n",
    "        tx.commit()\n",
    "        print(f\"{i} lines processed\")"
   ]
  },
  {
   "cell_type": "code",
   "execution_count": 6,
   "metadata": {},
   "outputs": [
    {
     "name": "stdout",
     "output_type": "stream",
     "text": [
      "1000 lines processed\n",
      "2000 lines processed\n",
      "3000 lines processed\n",
      "4000 lines processed\n",
      "4553 lines processed\n"
     ]
    }
   ],
   "source": [
    "node_list = get_data(driver)\n",
    "clear_nodes(driver)\n",
    "create_node(driver, node_list)"
   ]
  },
  {
   "cell_type": "code",
   "execution_count": 7,
   "metadata": {},
   "outputs": [],
   "source": [
    "def create_gds_graph_project(driver):\n",
    "    session = driver.session()\n",
    "    query = \"\"\"\n",
    "        CALL gds.graph.project(\n",
    "            'diseaseGraph',\n",
    "            {\n",
    "                Patient: {\n",
    "                    properties: ['weights']\n",
    "                }\n",
    "            },\n",
    "            '*'\n",
    "        );\n",
    "    \"\"\"\n",
    "    with driver.session() as session:\n",
    "        tx = session.begin_transaction()\n",
    "        tx.run(query)\n",
    "        tx.commit()"
   ]
  },
  {
   "cell_type": "code",
   "execution_count": 8,
   "metadata": {},
   "outputs": [],
   "source": [
    "def estimate_knn_write(driver):\n",
    "    session = driver.session()\n",
    "    query = \"\"\"\n",
    "        CALL gds.knn.write.estimate('diseaseGraph', {\n",
    "        nodeProperties: ['weights'],\n",
    "        writeRelationshipType: 'SIMILAR',\n",
    "        writeProperty: 'score',\n",
    "        topK: 1\n",
    "        })\n",
    "        YIELD nodeCount, bytesMin, bytesMax, requiredMemory\n",
    "    \"\"\"\n",
    "    with driver.session() as session:\n",
    "        tx = session.begin_transaction()\n",
    "        for row in tx.run(query):\n",
    "            print(f\"{row['nodeCount']=}, {row['bytesMin']=}, {row['bytesMax']=}, {row['requiredMemory']=}\")\n",
    "        tx.commit()"
   ]
  },
  {
   "cell_type": "code",
   "execution_count": 9,
   "metadata": {},
   "outputs": [
    {
     "name": "stdout",
     "output_type": "stream",
     "text": [
      "row['nodeCount']=4553, row['bytesMin']=548584, row['bytesMax']=1859944, row['requiredMemory']='[535 KiB ... 1816 KiB]'\n"
     ]
    }
   ],
   "source": [
    "create_gds_graph_project(driver)\n",
    "estimate_knn_write(driver)"
   ]
  },
  {
   "cell_type": "code",
   "execution_count": 10,
   "metadata": {},
   "outputs": [],
   "source": [
    "def get_stream_knn(driver):\n",
    "    dataframe = pd.DataFrame()\n",
    "    session = driver.session()\n",
    "    query = \"\"\"\n",
    "        CALL gds.knn.stream('diseaseGraph', {\n",
    "            topK: 1,\n",
    "            nodeProperties: ['weights'],\n",
    "            randomSeed: 1337,\n",
    "            concurrency: 1,\n",
    "            sampleRate: 1.0,\n",
    "            deltaThreshold: 0.0\n",
    "        })\n",
    "        YIELD node1, node2, similarity\n",
    "        RETURN gds.util.asNode(node1).patient AS Person1, gds.util.asNode(node2).patient AS Person2, similarity\n",
    "        ORDER BY similarity DESCENDING, Person1, Person2\n",
    "    \"\"\"\n",
    "    with driver.session() as session:\n",
    "        tx = session.begin_transaction()\n",
    "        dataframe = tx.run(query).to_df()\n",
    "        tx.commit()\n",
    "    return dataframe\n",
    "    "
   ]
  },
  {
   "cell_type": "code",
   "execution_count": 11,
   "metadata": {},
   "outputs": [],
   "source": [
    "def write_knn(driver):\n",
    "    session = driver.session()\n",
    "    query = \"\"\"\n",
    "        CALL gds.knn.write('diseaseGraph', {\n",
    "            writeRelationshipType: 'SIMILAR',\n",
    "            writeProperty: 'score',\n",
    "            topK: 1,\n",
    "            randomSeed: 42,\n",
    "            concurrency: 1,\n",
    "            nodeProperties: ['weights']\n",
    "        })\n",
    "        YIELD nodesCompared, relationshipsWritten\n",
    "    \"\"\"\n",
    "    with driver.session() as session:\n",
    "        tx = session.begin_transaction()\n",
    "        tx.run(query)\n",
    "        tx.commit()\n",
    "    "
   ]
  },
  {
   "cell_type": "code",
   "execution_count": 12,
   "metadata": {},
   "outputs": [
    {
     "name": "stdout",
     "output_type": "stream",
     "text": [
      "(4553, 3)\n"
     ]
    },
    {
     "data": {
      "text/html": [
       "<div>\n",
       "<style scoped>\n",
       "    .dataframe tbody tr th:only-of-type {\n",
       "        vertical-align: middle;\n",
       "    }\n",
       "\n",
       "    .dataframe tbody tr th {\n",
       "        vertical-align: top;\n",
       "    }\n",
       "\n",
       "    .dataframe thead th {\n",
       "        text-align: right;\n",
       "    }\n",
       "</style>\n",
       "<table border=\"1\" class=\"dataframe\">\n",
       "  <thead>\n",
       "    <tr style=\"text-align: right;\">\n",
       "      <th></th>\n",
       "      <th>Person1</th>\n",
       "      <th>Person2</th>\n",
       "      <th>similarity</th>\n",
       "    </tr>\n",
       "  </thead>\n",
       "  <tbody>\n",
       "    <tr>\n",
       "      <th>0</th>\n",
       "      <td>Aaron Munoz</td>\n",
       "      <td>Blythe Herrera</td>\n",
       "      <td>1.0</td>\n",
       "    </tr>\n",
       "    <tr>\n",
       "      <th>1</th>\n",
       "      <td>Abbot Carney</td>\n",
       "      <td>Sara Joyce</td>\n",
       "      <td>1.0</td>\n",
       "    </tr>\n",
       "    <tr>\n",
       "      <th>2</th>\n",
       "      <td>Abbot Daniels</td>\n",
       "      <td>Garrison Richard</td>\n",
       "      <td>1.0</td>\n",
       "    </tr>\n",
       "    <tr>\n",
       "      <th>3</th>\n",
       "      <td>Abbot Goff</td>\n",
       "      <td>Penelope Wooten</td>\n",
       "      <td>1.0</td>\n",
       "    </tr>\n",
       "    <tr>\n",
       "      <th>4</th>\n",
       "      <td>Abbot Kaufman</td>\n",
       "      <td>Irma Terry</td>\n",
       "      <td>1.0</td>\n",
       "    </tr>\n",
       "  </tbody>\n",
       "</table>\n",
       "</div>"
      ],
      "text/plain": [
       "         Person1           Person2  similarity\n",
       "0    Aaron Munoz    Blythe Herrera         1.0\n",
       "1   Abbot Carney        Sara Joyce         1.0\n",
       "2  Abbot Daniels  Garrison Richard         1.0\n",
       "3     Abbot Goff   Penelope Wooten         1.0\n",
       "4  Abbot Kaufman        Irma Terry         1.0"
      ]
     },
     "execution_count": 12,
     "metadata": {},
     "output_type": "execute_result"
    }
   ],
   "source": [
    "dataframe = get_stream_knn(driver)\n",
    "print(dataframe.shape)\n",
    "dataframe.head(5)"
   ]
  },
  {
   "cell_type": "code",
   "execution_count": 13,
   "metadata": {},
   "outputs": [],
   "source": [
    "write_knn(driver)"
   ]
  }
 ],
 "metadata": {
  "kernelspec": {
   "display_name": "Python 3",
   "language": "python",
   "name": "python3"
  },
  "language_info": {
   "codemirror_mode": {
    "name": "ipython",
    "version": 3
   },
   "file_extension": ".py",
   "mimetype": "text/x-python",
   "name": "python",
   "nbconvert_exporter": "python",
   "pygments_lexer": "ipython3",
   "version": "3.10.9"
  },
  "orig_nbformat": 4
 },
 "nbformat": 4,
 "nbformat_minor": 2
}
