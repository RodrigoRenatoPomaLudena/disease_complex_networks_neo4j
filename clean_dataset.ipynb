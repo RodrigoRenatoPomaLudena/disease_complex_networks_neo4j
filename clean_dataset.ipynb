{
 "cells": [
  {
   "cell_type": "code",
   "execution_count": 28,
   "metadata": {},
   "outputs": [],
   "source": [
    "import pandas as pd\n",
    "import numpy as np\n",
    "import re\n",
    "import os"
   ]
  },
  {
   "cell_type": "code",
   "execution_count": 29,
   "metadata": {},
   "outputs": [],
   "source": [
    "dataset_path = 'dataset/'\n",
    "data_content = {}\n",
    "for file_name in os.listdir(dataset_path):\n",
    "    if file_name != 'users':\n",
    "        df = pd.read_csv(dataset_path+file_name)\n",
    "        df.columns = df.columns.str.lower()\n",
    "        for column in df.columns:\n",
    "            if ~np.issubdtype(df[column].dtype, np.number):\n",
    "                df[column] = df[column].astype(str).str.lower().str.replace('_',' ')\n",
    "        data_content[file_name] = df"
   ]
  },
  {
   "cell_type": "code",
   "execution_count": 30,
   "metadata": {},
   "outputs": [],
   "source": [
    "user_data = {}\n",
    "users_path = dataset_path+'users/'\n",
    "df_user_list = []\n",
    "df = pd.DataFrame()\n",
    "for file_name in os.listdir(users_path):\n",
    "    df = pd.read_csv(users_path+file_name)    \n",
    "    df_user_list.append(df)\n",
    "    "
   ]
  },
  {
   "attachments": {},
   "cell_type": "markdown",
   "metadata": {},
   "source": [
    "# CLEANING DATA"
   ]
  },
  {
   "cell_type": "code",
   "execution_count": 31,
   "metadata": {},
   "outputs": [],
   "source": [
    "dataset_cleaned_path = 'dataset_cleaned/'"
   ]
  },
  {
   "attachments": {},
   "cell_type": "markdown",
   "metadata": {},
   "source": [
    "## USER NODE"
   ]
  },
  {
   "cell_type": "code",
   "execution_count": 32,
   "metadata": {},
   "outputs": [
    {
     "name": "stdout",
     "output_type": "stream",
     "text": [
      "(4920, 5)\n"
     ]
    },
    {
     "data": {
      "text/html": [
       "<div>\n",
       "<style scoped>\n",
       "    .dataframe tbody tr th:only-of-type {\n",
       "        vertical-align: middle;\n",
       "    }\n",
       "\n",
       "    .dataframe tbody tr th {\n",
       "        vertical-align: top;\n",
       "    }\n",
       "\n",
       "    .dataframe thead th {\n",
       "        text-align: right;\n",
       "    }\n",
       "</style>\n",
       "<table border=\"1\" class=\"dataframe\">\n",
       "  <thead>\n",
       "    <tr style=\"text-align: right;\">\n",
       "      <th></th>\n",
       "      <th>user</th>\n",
       "      <th>email</th>\n",
       "      <th>postalZip</th>\n",
       "      <th>region</th>\n",
       "      <th>country</th>\n",
       "    </tr>\n",
       "  </thead>\n",
       "  <tbody>\n",
       "    <tr>\n",
       "      <th>0</th>\n",
       "      <td>Dorian Lowery</td>\n",
       "      <td>dictum@protonmail.net</td>\n",
       "      <td>29848</td>\n",
       "      <td>Picardie</td>\n",
       "      <td>India</td>\n",
       "    </tr>\n",
       "    <tr>\n",
       "      <th>1</th>\n",
       "      <td>Nash Miranda</td>\n",
       "      <td>mi.lacinia@icloud.couk</td>\n",
       "      <td>184226</td>\n",
       "      <td>North Jeolla</td>\n",
       "      <td>Italy</td>\n",
       "    </tr>\n",
       "  </tbody>\n",
       "</table>\n",
       "</div>"
      ],
      "text/plain": [
       "            user                   email postalZip        region country\n",
       "0  Dorian Lowery   dictum@protonmail.net     29848      Picardie   India\n",
       "1   Nash Miranda  mi.lacinia@icloud.couk    184226  North Jeolla   Italy"
      ]
     },
     "execution_count": 32,
     "metadata": {},
     "output_type": "execute_result"
    }
   ],
   "source": [
    "df_user = pd.concat(df_user_list, ignore_index=True)\n",
    "df_user = df_user.drop_duplicates().reset_index(drop=True)\n",
    "df_user = df_user.drop_duplicates(subset='name', keep=\"first\")\n",
    "df_user = df_user.iloc[0:4920, :]\n",
    "df_user.rename(columns={'name':'user'},inplace=True)\n",
    "df_user.to_csv(dataset_cleaned_path+'user_node.csv')\n",
    "print(df_user.shape)\n",
    "df_user.head(2)"
   ]
  },
  {
   "attachments": {},
   "cell_type": "markdown",
   "metadata": {},
   "source": [
    "## DISEASE NODE"
   ]
  },
  {
   "cell_type": "code",
   "execution_count": 33,
   "metadata": {},
   "outputs": [
    {
     "data": {
      "text/html": [
       "<div>\n",
       "<style scoped>\n",
       "    .dataframe tbody tr th:only-of-type {\n",
       "        vertical-align: middle;\n",
       "    }\n",
       "\n",
       "    .dataframe tbody tr th {\n",
       "        vertical-align: top;\n",
       "    }\n",
       "\n",
       "    .dataframe thead th {\n",
       "        text-align: right;\n",
       "    }\n",
       "</style>\n",
       "<table border=\"1\" class=\"dataframe\">\n",
       "  <thead>\n",
       "    <tr style=\"text-align: right;\">\n",
       "      <th></th>\n",
       "      <th>disease</th>\n",
       "      <th>description</th>\n",
       "    </tr>\n",
       "  </thead>\n",
       "  <tbody>\n",
       "    <tr>\n",
       "      <th>0</th>\n",
       "      <td>drug reaction</td>\n",
       "      <td>an adverse drug reaction (adr) is an injury ca...</td>\n",
       "    </tr>\n",
       "    <tr>\n",
       "      <th>1</th>\n",
       "      <td>malaria</td>\n",
       "      <td>an infectious disease caused by protozoan para...</td>\n",
       "    </tr>\n",
       "  </tbody>\n",
       "</table>\n",
       "</div>"
      ],
      "text/plain": [
       "         disease                                        description\n",
       "0  drug reaction  an adverse drug reaction (adr) is an injury ca...\n",
       "1        malaria  an infectious disease caused by protozoan para..."
      ]
     },
     "execution_count": 33,
     "metadata": {},
     "output_type": "execute_result"
    }
   ],
   "source": [
    "data_content['symptom_description.csv'].head(2)"
   ]
  },
  {
   "cell_type": "code",
   "execution_count": 34,
   "metadata": {},
   "outputs": [
    {
     "name": "stdout",
     "output_type": "stream",
     "text": [
      "(41, 2)\n"
     ]
    },
    {
     "data": {
      "text/html": [
       "<div>\n",
       "<style scoped>\n",
       "    .dataframe tbody tr th:only-of-type {\n",
       "        vertical-align: middle;\n",
       "    }\n",
       "\n",
       "    .dataframe tbody tr th {\n",
       "        vertical-align: top;\n",
       "    }\n",
       "\n",
       "    .dataframe thead th {\n",
       "        text-align: right;\n",
       "    }\n",
       "</style>\n",
       "<table border=\"1\" class=\"dataframe\">\n",
       "  <thead>\n",
       "    <tr style=\"text-align: right;\">\n",
       "      <th></th>\n",
       "      <th>disease</th>\n",
       "      <th>description</th>\n",
       "    </tr>\n",
       "  </thead>\n",
       "  <tbody>\n",
       "    <tr>\n",
       "      <th>0</th>\n",
       "      <td>drug reaction</td>\n",
       "      <td>an adverse drug reaction (adr) is an injury ca...</td>\n",
       "    </tr>\n",
       "    <tr>\n",
       "      <th>1</th>\n",
       "      <td>malaria</td>\n",
       "      <td>an infectious disease caused by protozoan para...</td>\n",
       "    </tr>\n",
       "    <tr>\n",
       "      <th>2</th>\n",
       "      <td>allergy</td>\n",
       "      <td>an allergy is an immune system response to a f...</td>\n",
       "    </tr>\n",
       "    <tr>\n",
       "      <th>3</th>\n",
       "      <td>hypothyroidism</td>\n",
       "      <td>hypothyroidism, also called underactive thyroi...</td>\n",
       "    </tr>\n",
       "    <tr>\n",
       "      <th>4</th>\n",
       "      <td>psoriasis</td>\n",
       "      <td>psoriasis is a common skin disorder that forms...</td>\n",
       "    </tr>\n",
       "  </tbody>\n",
       "</table>\n",
       "</div>"
      ],
      "text/plain": [
       "          disease                                        description\n",
       "0   drug reaction  an adverse drug reaction (adr) is an injury ca...\n",
       "1         malaria  an infectious disease caused by protozoan para...\n",
       "2         allergy  an allergy is an immune system response to a f...\n",
       "3  hypothyroidism  hypothyroidism, also called underactive thyroi...\n",
       "4       psoriasis  psoriasis is a common skin disorder that forms..."
      ]
     },
     "execution_count": 34,
     "metadata": {},
     "output_type": "execute_result"
    }
   ],
   "source": [
    "df_disease = data_content['symptom_description.csv'].drop_duplicates()\n",
    "df_disease.to_csv(dataset_cleaned_path+'disease_node.csv')\n",
    "print(df_disease.shape)\n",
    "df_disease.head()"
   ]
  },
  {
   "attachments": {},
   "cell_type": "markdown",
   "metadata": {},
   "source": [
    "## PRECAUTION NODE"
   ]
  },
  {
   "cell_type": "code",
   "execution_count": 35,
   "metadata": {},
   "outputs": [
    {
     "data": {
      "text/html": [
       "<div>\n",
       "<style scoped>\n",
       "    .dataframe tbody tr th:only-of-type {\n",
       "        vertical-align: middle;\n",
       "    }\n",
       "\n",
       "    .dataframe tbody tr th {\n",
       "        vertical-align: top;\n",
       "    }\n",
       "\n",
       "    .dataframe thead th {\n",
       "        text-align: right;\n",
       "    }\n",
       "</style>\n",
       "<table border=\"1\" class=\"dataframe\">\n",
       "  <thead>\n",
       "    <tr style=\"text-align: right;\">\n",
       "      <th></th>\n",
       "      <th>disease</th>\n",
       "      <th>precaution_1</th>\n",
       "      <th>precaution_2</th>\n",
       "      <th>precaution_3</th>\n",
       "      <th>precaution_4</th>\n",
       "    </tr>\n",
       "  </thead>\n",
       "  <tbody>\n",
       "    <tr>\n",
       "      <th>0</th>\n",
       "      <td>drug reaction</td>\n",
       "      <td>stop irritation</td>\n",
       "      <td>consult nearest hospital</td>\n",
       "      <td>stop taking drug</td>\n",
       "      <td>follow up</td>\n",
       "    </tr>\n",
       "    <tr>\n",
       "      <th>1</th>\n",
       "      <td>malaria</td>\n",
       "      <td>consult nearest hospital</td>\n",
       "      <td>avoid oily food</td>\n",
       "      <td>avoid non veg food</td>\n",
       "      <td>keep mosquitos out</td>\n",
       "    </tr>\n",
       "  </tbody>\n",
       "</table>\n",
       "</div>"
      ],
      "text/plain": [
       "         disease              precaution_1              precaution_2  \\\n",
       "0  drug reaction           stop irritation  consult nearest hospital   \n",
       "1        malaria  consult nearest hospital           avoid oily food   \n",
       "\n",
       "         precaution_3        precaution_4  \n",
       "0    stop taking drug           follow up  \n",
       "1  avoid non veg food  keep mosquitos out  "
      ]
     },
     "execution_count": 35,
     "metadata": {},
     "output_type": "execute_result"
    }
   ],
   "source": [
    "data_content['symptom_precaution.csv'].head(2)"
   ]
  },
  {
   "cell_type": "code",
   "execution_count": 36,
   "metadata": {},
   "outputs": [
    {
     "name": "stdout",
     "output_type": "stream",
     "text": [
      "(96, 2)\n"
     ]
    },
    {
     "data": {
      "text/html": [
       "<div>\n",
       "<style scoped>\n",
       "    .dataframe tbody tr th:only-of-type {\n",
       "        vertical-align: middle;\n",
       "    }\n",
       "\n",
       "    .dataframe tbody tr th {\n",
       "        vertical-align: top;\n",
       "    }\n",
       "\n",
       "    .dataframe thead th {\n",
       "        text-align: right;\n",
       "    }\n",
       "</style>\n",
       "<table border=\"1\" class=\"dataframe\">\n",
       "  <thead>\n",
       "    <tr style=\"text-align: right;\">\n",
       "      <th></th>\n",
       "      <th>precaution</th>\n",
       "      <th>weight</th>\n",
       "    </tr>\n",
       "  </thead>\n",
       "  <tbody>\n",
       "    <tr>\n",
       "      <th>0</th>\n",
       "      <td>consult doctor</td>\n",
       "      <td>15</td>\n",
       "    </tr>\n",
       "    <tr>\n",
       "      <th>1</th>\n",
       "      <td>medication</td>\n",
       "      <td>10</td>\n",
       "    </tr>\n",
       "    <tr>\n",
       "      <th>2</th>\n",
       "      <td>eat healthy</td>\n",
       "      <td>7</td>\n",
       "    </tr>\n",
       "    <tr>\n",
       "      <th>3</th>\n",
       "      <td>follow up</td>\n",
       "      <td>7</td>\n",
       "    </tr>\n",
       "    <tr>\n",
       "      <th>4</th>\n",
       "      <td>avoid fatty spicy food</td>\n",
       "      <td>6</td>\n",
       "    </tr>\n",
       "  </tbody>\n",
       "</table>\n",
       "</div>"
      ],
      "text/plain": [
       "               precaution  weight\n",
       "0          consult doctor      15\n",
       "1              medication      10\n",
       "2             eat healthy       7\n",
       "3               follow up       7\n",
       "4  avoid fatty spicy food       6"
      ]
     },
     "execution_count": 36,
     "metadata": {},
     "output_type": "execute_result"
    }
   ],
   "source": [
    "precaution_columns = [x for x in data_content['symptom_precaution.csv'] if 'precaution' in x]\n",
    "df_precaution_list = []\n",
    "for column in precaution_columns:\n",
    "    df = pd.DataFrame()\n",
    "    df['precaution'] = data_content['symptom_precaution.csv'][column]\n",
    "    df['weight'] = int(column.replace('precaution_', ''))\n",
    "    df_precaution_list.append(df)\n",
    "df_precaution = pd.concat(df_precaution_list, ignore_index=True)\n",
    "df_precaution.drop(df_precaution[df_precaution['precaution'] == 'nan'].index, inplace=True)\n",
    "df_precaution = df_precaution.groupby(by=['precaution'], as_index=False)\\\n",
    "                                .agg('count')\\\n",
    "                                .sort_values(by=['weight'], ascending=False)\\\n",
    "                                .reset_index(drop=True)\n",
    "df_precaution.to_csv(dataset_cleaned_path+'precaution_node.csv')\n",
    "print(df_precaution.shape)\n",
    "df_precaution.head()\n"
   ]
  },
  {
   "attachments": {},
   "cell_type": "markdown",
   "metadata": {},
   "source": [
    "# SYMPTOM NODE"
   ]
  },
  {
   "cell_type": "code",
   "execution_count": 37,
   "metadata": {},
   "outputs": [
    {
     "data": {
      "text/html": [
       "<div>\n",
       "<style scoped>\n",
       "    .dataframe tbody tr th:only-of-type {\n",
       "        vertical-align: middle;\n",
       "    }\n",
       "\n",
       "    .dataframe tbody tr th {\n",
       "        vertical-align: top;\n",
       "    }\n",
       "\n",
       "    .dataframe thead th {\n",
       "        text-align: right;\n",
       "    }\n",
       "</style>\n",
       "<table border=\"1\" class=\"dataframe\">\n",
       "  <thead>\n",
       "    <tr style=\"text-align: right;\">\n",
       "      <th></th>\n",
       "      <th>symptom</th>\n",
       "      <th>weight</th>\n",
       "    </tr>\n",
       "  </thead>\n",
       "  <tbody>\n",
       "    <tr>\n",
       "      <th>0</th>\n",
       "      <td>itching</td>\n",
       "      <td>1</td>\n",
       "    </tr>\n",
       "    <tr>\n",
       "      <th>1</th>\n",
       "      <td>skin rash</td>\n",
       "      <td>3</td>\n",
       "    </tr>\n",
       "  </tbody>\n",
       "</table>\n",
       "</div>"
      ],
      "text/plain": [
       "     symptom weight\n",
       "0    itching      1\n",
       "1  skin rash      3"
      ]
     },
     "execution_count": 37,
     "metadata": {},
     "output_type": "execute_result"
    }
   ],
   "source": [
    "data_content['symptom_severity.csv'].head(2)"
   ]
  },
  {
   "cell_type": "code",
   "execution_count": 38,
   "metadata": {},
   "outputs": [
    {
     "name": "stdout",
     "output_type": "stream",
     "text": [
      "(133, 2)\n"
     ]
    },
    {
     "data": {
      "text/html": [
       "<div>\n",
       "<style scoped>\n",
       "    .dataframe tbody tr th:only-of-type {\n",
       "        vertical-align: middle;\n",
       "    }\n",
       "\n",
       "    .dataframe tbody tr th {\n",
       "        vertical-align: top;\n",
       "    }\n",
       "\n",
       "    .dataframe thead th {\n",
       "        text-align: right;\n",
       "    }\n",
       "</style>\n",
       "<table border=\"1\" class=\"dataframe\">\n",
       "  <thead>\n",
       "    <tr style=\"text-align: right;\">\n",
       "      <th></th>\n",
       "      <th>symptom</th>\n",
       "      <th>weight</th>\n",
       "    </tr>\n",
       "  </thead>\n",
       "  <tbody>\n",
       "    <tr>\n",
       "      <th>0</th>\n",
       "      <td>itching</td>\n",
       "      <td>1</td>\n",
       "    </tr>\n",
       "    <tr>\n",
       "      <th>1</th>\n",
       "      <td>skin rash</td>\n",
       "      <td>3</td>\n",
       "    </tr>\n",
       "    <tr>\n",
       "      <th>2</th>\n",
       "      <td>nodal skin eruptions</td>\n",
       "      <td>4</td>\n",
       "    </tr>\n",
       "    <tr>\n",
       "      <th>3</th>\n",
       "      <td>continuous sneezing</td>\n",
       "      <td>4</td>\n",
       "    </tr>\n",
       "    <tr>\n",
       "      <th>4</th>\n",
       "      <td>shivering</td>\n",
       "      <td>5</td>\n",
       "    </tr>\n",
       "  </tbody>\n",
       "</table>\n",
       "</div>"
      ],
      "text/plain": [
       "                symptom weight\n",
       "0               itching      1\n",
       "1             skin rash      3\n",
       "2  nodal skin eruptions      4\n",
       "3   continuous sneezing      4\n",
       "4             shivering      5"
      ]
     },
     "execution_count": 38,
     "metadata": {},
     "output_type": "execute_result"
    }
   ],
   "source": [
    "df_symptom = data_content['symptom_severity.csv'].drop_duplicates()\n",
    "df_symptom.to_csv(dataset_cleaned_path+'symptom_node.csv')\n",
    "print(df_symptom.shape)\n",
    "df_symptom.head()"
   ]
  },
  {
   "attachments": {},
   "cell_type": "markdown",
   "metadata": {},
   "source": [
    "## PRECAUTION AND SYMPTOM CONNECTION"
   ]
  },
  {
   "cell_type": "code",
   "execution_count": 39,
   "metadata": {},
   "outputs": [
    {
     "data": {
      "text/html": [
       "<div>\n",
       "<style scoped>\n",
       "    .dataframe tbody tr th:only-of-type {\n",
       "        vertical-align: middle;\n",
       "    }\n",
       "\n",
       "    .dataframe tbody tr th {\n",
       "        vertical-align: top;\n",
       "    }\n",
       "\n",
       "    .dataframe thead th {\n",
       "        text-align: right;\n",
       "    }\n",
       "</style>\n",
       "<table border=\"1\" class=\"dataframe\">\n",
       "  <thead>\n",
       "    <tr style=\"text-align: right;\">\n",
       "      <th></th>\n",
       "      <th>disease</th>\n",
       "      <th>precaution_1</th>\n",
       "      <th>precaution_2</th>\n",
       "      <th>precaution_3</th>\n",
       "      <th>precaution_4</th>\n",
       "    </tr>\n",
       "  </thead>\n",
       "  <tbody>\n",
       "    <tr>\n",
       "      <th>0</th>\n",
       "      <td>drug reaction</td>\n",
       "      <td>stop irritation</td>\n",
       "      <td>consult nearest hospital</td>\n",
       "      <td>stop taking drug</td>\n",
       "      <td>follow up</td>\n",
       "    </tr>\n",
       "    <tr>\n",
       "      <th>1</th>\n",
       "      <td>malaria</td>\n",
       "      <td>consult nearest hospital</td>\n",
       "      <td>avoid oily food</td>\n",
       "      <td>avoid non veg food</td>\n",
       "      <td>keep mosquitos out</td>\n",
       "    </tr>\n",
       "  </tbody>\n",
       "</table>\n",
       "</div>"
      ],
      "text/plain": [
       "         disease              precaution_1              precaution_2  \\\n",
       "0  drug reaction           stop irritation  consult nearest hospital   \n",
       "1        malaria  consult nearest hospital           avoid oily food   \n",
       "\n",
       "         precaution_3        precaution_4  \n",
       "0    stop taking drug           follow up  \n",
       "1  avoid non veg food  keep mosquitos out  "
      ]
     },
     "execution_count": 39,
     "metadata": {},
     "output_type": "execute_result"
    }
   ],
   "source": [
    "data_content['symptom_precaution.csv'].head(2)"
   ]
  },
  {
   "cell_type": "code",
   "execution_count": 40,
   "metadata": {},
   "outputs": [
    {
     "name": "stdout",
     "output_type": "stream",
     "text": [
      "(162, 2)\n"
     ]
    },
    {
     "data": {
      "text/html": [
       "<div>\n",
       "<style scoped>\n",
       "    .dataframe tbody tr th:only-of-type {\n",
       "        vertical-align: middle;\n",
       "    }\n",
       "\n",
       "    .dataframe tbody tr th {\n",
       "        vertical-align: top;\n",
       "    }\n",
       "\n",
       "    .dataframe thead th {\n",
       "        text-align: right;\n",
       "    }\n",
       "</style>\n",
       "<table border=\"1\" class=\"dataframe\">\n",
       "  <thead>\n",
       "    <tr style=\"text-align: right;\">\n",
       "      <th></th>\n",
       "      <th>disease</th>\n",
       "      <th>precaution</th>\n",
       "    </tr>\n",
       "  </thead>\n",
       "  <tbody>\n",
       "    <tr>\n",
       "      <th>0</th>\n",
       "      <td>(vertigo) paroymsal  positional vertigo</td>\n",
       "      <td>avoid abrupt head movment</td>\n",
       "    </tr>\n",
       "    <tr>\n",
       "      <th>1</th>\n",
       "      <td>(vertigo) paroymsal  positional vertigo</td>\n",
       "      <td>avoid sudden change in body</td>\n",
       "    </tr>\n",
       "    <tr>\n",
       "      <th>2</th>\n",
       "      <td>(vertigo) paroymsal  positional vertigo</td>\n",
       "      <td>relax</td>\n",
       "    </tr>\n",
       "    <tr>\n",
       "      <th>3</th>\n",
       "      <td>(vertigo) paroymsal  positional vertigo</td>\n",
       "      <td>lie down</td>\n",
       "    </tr>\n",
       "    <tr>\n",
       "      <th>4</th>\n",
       "      <td>acne</td>\n",
       "      <td>avoid too many products</td>\n",
       "    </tr>\n",
       "  </tbody>\n",
       "</table>\n",
       "</div>"
      ],
      "text/plain": [
       "                                   disease                   precaution\n",
       "0  (vertigo) paroymsal  positional vertigo    avoid abrupt head movment\n",
       "1  (vertigo) paroymsal  positional vertigo  avoid sudden change in body\n",
       "2  (vertigo) paroymsal  positional vertigo                        relax\n",
       "3  (vertigo) paroymsal  positional vertigo                     lie down\n",
       "4                                     acne      avoid too many products"
      ]
     },
     "execution_count": 40,
     "metadata": {},
     "output_type": "execute_result"
    }
   ],
   "source": [
    "precaution_columns = [x for x in data_content['symptom_precaution.csv'].columns if x != 'disease']\n",
    "df_precaution_and_symptom_list = []\n",
    "for column in precaution_columns:\n",
    "    df = data_content['symptom_precaution.csv'][['disease', column]].copy()\n",
    "    df = df.rename(columns={column : 'precaution'})\n",
    "    df_precaution_and_symptom_list.append(df)\n",
    "\n",
    "df_precaution_and_symptom = pd.concat(df_precaution_and_symptom_list, ignore_index=True)\n",
    "df_precaution_and_symptom.drop(df_precaution_and_symptom[df_precaution_and_symptom['precaution'] == 'nan'].index, inplace=True)\n",
    "df_precaution_and_symptom.sort_values(by=['disease'], ascending=True, inplace=True, ignore_index=True)\n",
    "df_precaution_and_symptom.to_csv(dataset_cleaned_path+'precaution_and_symptom_node.csv')\n",
    "print(df_precaution_and_symptom.shape)\n",
    "df_precaution_and_symptom.head()"
   ]
  },
  {
   "attachments": {},
   "cell_type": "markdown",
   "metadata": {},
   "source": [
    "## DISEASE AND SYMPTOM CONNECTION"
   ]
  },
  {
   "cell_type": "code",
   "execution_count": 41,
   "metadata": {},
   "outputs": [
    {
     "data": {
      "text/html": [
       "<div>\n",
       "<style scoped>\n",
       "    .dataframe tbody tr th:only-of-type {\n",
       "        vertical-align: middle;\n",
       "    }\n",
       "\n",
       "    .dataframe tbody tr th {\n",
       "        vertical-align: top;\n",
       "    }\n",
       "\n",
       "    .dataframe thead th {\n",
       "        text-align: right;\n",
       "    }\n",
       "</style>\n",
       "<table border=\"1\" class=\"dataframe\">\n",
       "  <thead>\n",
       "    <tr style=\"text-align: right;\">\n",
       "      <th></th>\n",
       "      <th>disease</th>\n",
       "      <th>symptom_1</th>\n",
       "      <th>symptom_2</th>\n",
       "      <th>symptom_3</th>\n",
       "      <th>symptom_4</th>\n",
       "      <th>symptom_5</th>\n",
       "      <th>symptom_6</th>\n",
       "      <th>symptom_7</th>\n",
       "      <th>symptom_8</th>\n",
       "      <th>symptom_9</th>\n",
       "      <th>symptom_10</th>\n",
       "      <th>symptom_11</th>\n",
       "      <th>symptom_12</th>\n",
       "      <th>symptom_13</th>\n",
       "      <th>symptom_14</th>\n",
       "      <th>symptom_15</th>\n",
       "      <th>symptom_16</th>\n",
       "      <th>symptom_17</th>\n",
       "    </tr>\n",
       "  </thead>\n",
       "  <tbody>\n",
       "    <tr>\n",
       "      <th>0</th>\n",
       "      <td>fungal infection</td>\n",
       "      <td>itching</td>\n",
       "      <td>skin rash</td>\n",
       "      <td>nodal skin eruptions</td>\n",
       "      <td>dischromic  patches</td>\n",
       "      <td>nan</td>\n",
       "      <td>nan</td>\n",
       "      <td>nan</td>\n",
       "      <td>nan</td>\n",
       "      <td>nan</td>\n",
       "      <td>nan</td>\n",
       "      <td>nan</td>\n",
       "      <td>nan</td>\n",
       "      <td>nan</td>\n",
       "      <td>nan</td>\n",
       "      <td>nan</td>\n",
       "      <td>nan</td>\n",
       "      <td>nan</td>\n",
       "    </tr>\n",
       "    <tr>\n",
       "      <th>1</th>\n",
       "      <td>fungal infection</td>\n",
       "      <td>skin rash</td>\n",
       "      <td>nodal skin eruptions</td>\n",
       "      <td>dischromic  patches</td>\n",
       "      <td>nan</td>\n",
       "      <td>nan</td>\n",
       "      <td>nan</td>\n",
       "      <td>nan</td>\n",
       "      <td>nan</td>\n",
       "      <td>nan</td>\n",
       "      <td>nan</td>\n",
       "      <td>nan</td>\n",
       "      <td>nan</td>\n",
       "      <td>nan</td>\n",
       "      <td>nan</td>\n",
       "      <td>nan</td>\n",
       "      <td>nan</td>\n",
       "      <td>nan</td>\n",
       "    </tr>\n",
       "  </tbody>\n",
       "</table>\n",
       "</div>"
      ],
      "text/plain": [
       "            disease   symptom_1              symptom_2              symptom_3  \\\n",
       "0  fungal infection     itching              skin rash   nodal skin eruptions   \n",
       "1  fungal infection   skin rash   nodal skin eruptions    dischromic  patches   \n",
       "\n",
       "              symptom_4 symptom_5 symptom_6 symptom_7 symptom_8 symptom_9  \\\n",
       "0   dischromic  patches       nan       nan       nan       nan       nan   \n",
       "1                   nan       nan       nan       nan       nan       nan   \n",
       "\n",
       "  symptom_10 symptom_11 symptom_12 symptom_13 symptom_14 symptom_15  \\\n",
       "0        nan        nan        nan        nan        nan        nan   \n",
       "1        nan        nan        nan        nan        nan        nan   \n",
       "\n",
       "  symptom_16 symptom_17  \n",
       "0        nan        nan  \n",
       "1        nan        nan  "
      ]
     },
     "execution_count": 41,
     "metadata": {},
     "output_type": "execute_result"
    }
   ],
   "source": [
    "data_content['disease_symptom.csv'].head(2)"
   ]
  },
  {
   "cell_type": "code",
   "execution_count": 42,
   "metadata": {},
   "outputs": [
    {
     "name": "stdout",
     "output_type": "stream",
     "text": [
      "(4927, 19)\n"
     ]
    },
    {
     "data": {
      "text/html": [
       "<div>\n",
       "<style scoped>\n",
       "    .dataframe tbody tr th:only-of-type {\n",
       "        vertical-align: middle;\n",
       "    }\n",
       "\n",
       "    .dataframe tbody tr th {\n",
       "        vertical-align: top;\n",
       "    }\n",
       "\n",
       "    .dataframe thead th {\n",
       "        text-align: right;\n",
       "    }\n",
       "</style>\n",
       "<table border=\"1\" class=\"dataframe\">\n",
       "  <thead>\n",
       "    <tr style=\"text-align: right;\">\n",
       "      <th></th>\n",
       "      <th>disease</th>\n",
       "      <th>user</th>\n",
       "      <th>symptom_1</th>\n",
       "      <th>symptom_2</th>\n",
       "      <th>symptom_3</th>\n",
       "      <th>symptom_4</th>\n",
       "      <th>symptom_5</th>\n",
       "      <th>symptom_6</th>\n",
       "      <th>symptom_7</th>\n",
       "      <th>symptom_8</th>\n",
       "      <th>symptom_9</th>\n",
       "      <th>symptom_10</th>\n",
       "      <th>symptom_11</th>\n",
       "      <th>symptom_12</th>\n",
       "      <th>symptom_13</th>\n",
       "      <th>symptom_14</th>\n",
       "      <th>symptom_15</th>\n",
       "      <th>symptom_16</th>\n",
       "      <th>symptom_17</th>\n",
       "    </tr>\n",
       "  </thead>\n",
       "  <tbody>\n",
       "    <tr>\n",
       "      <th>0</th>\n",
       "      <td>fungal infection</td>\n",
       "      <td>Dorian Lowery</td>\n",
       "      <td>itching</td>\n",
       "      <td>skin rash</td>\n",
       "      <td>nodal skin eruptions</td>\n",
       "      <td>dischromic  patches</td>\n",
       "      <td>NaN</td>\n",
       "      <td>NaN</td>\n",
       "      <td>NaN</td>\n",
       "      <td>NaN</td>\n",
       "      <td>NaN</td>\n",
       "      <td>NaN</td>\n",
       "      <td>NaN</td>\n",
       "      <td>NaN</td>\n",
       "      <td>NaN</td>\n",
       "      <td>NaN</td>\n",
       "      <td>NaN</td>\n",
       "      <td>NaN</td>\n",
       "      <td>NaN</td>\n",
       "    </tr>\n",
       "    <tr>\n",
       "      <th>1</th>\n",
       "      <td>fungal infection</td>\n",
       "      <td>Nash Miranda</td>\n",
       "      <td>skin rash</td>\n",
       "      <td>nodal skin eruptions</td>\n",
       "      <td>dischromic  patches</td>\n",
       "      <td>NaN</td>\n",
       "      <td>NaN</td>\n",
       "      <td>NaN</td>\n",
       "      <td>NaN</td>\n",
       "      <td>NaN</td>\n",
       "      <td>NaN</td>\n",
       "      <td>NaN</td>\n",
       "      <td>NaN</td>\n",
       "      <td>NaN</td>\n",
       "      <td>NaN</td>\n",
       "      <td>NaN</td>\n",
       "      <td>NaN</td>\n",
       "      <td>NaN</td>\n",
       "      <td>NaN</td>\n",
       "    </tr>\n",
       "    <tr>\n",
       "      <th>2</th>\n",
       "      <td>fungal infection</td>\n",
       "      <td>Sopoline Mcintyre</td>\n",
       "      <td>itching</td>\n",
       "      <td>nodal skin eruptions</td>\n",
       "      <td>dischromic  patches</td>\n",
       "      <td>NaN</td>\n",
       "      <td>NaN</td>\n",
       "      <td>NaN</td>\n",
       "      <td>NaN</td>\n",
       "      <td>NaN</td>\n",
       "      <td>NaN</td>\n",
       "      <td>NaN</td>\n",
       "      <td>NaN</td>\n",
       "      <td>NaN</td>\n",
       "      <td>NaN</td>\n",
       "      <td>NaN</td>\n",
       "      <td>NaN</td>\n",
       "      <td>NaN</td>\n",
       "      <td>NaN</td>\n",
       "    </tr>\n",
       "    <tr>\n",
       "      <th>3</th>\n",
       "      <td>fungal infection</td>\n",
       "      <td>Ray Strong</td>\n",
       "      <td>itching</td>\n",
       "      <td>skin rash</td>\n",
       "      <td>dischromic  patches</td>\n",
       "      <td>NaN</td>\n",
       "      <td>NaN</td>\n",
       "      <td>NaN</td>\n",
       "      <td>NaN</td>\n",
       "      <td>NaN</td>\n",
       "      <td>NaN</td>\n",
       "      <td>NaN</td>\n",
       "      <td>NaN</td>\n",
       "      <td>NaN</td>\n",
       "      <td>NaN</td>\n",
       "      <td>NaN</td>\n",
       "      <td>NaN</td>\n",
       "      <td>NaN</td>\n",
       "      <td>NaN</td>\n",
       "    </tr>\n",
       "    <tr>\n",
       "      <th>4</th>\n",
       "      <td>fungal infection</td>\n",
       "      <td>Lamar Love</td>\n",
       "      <td>itching</td>\n",
       "      <td>skin rash</td>\n",
       "      <td>nodal skin eruptions</td>\n",
       "      <td>NaN</td>\n",
       "      <td>NaN</td>\n",
       "      <td>NaN</td>\n",
       "      <td>NaN</td>\n",
       "      <td>NaN</td>\n",
       "      <td>NaN</td>\n",
       "      <td>NaN</td>\n",
       "      <td>NaN</td>\n",
       "      <td>NaN</td>\n",
       "      <td>NaN</td>\n",
       "      <td>NaN</td>\n",
       "      <td>NaN</td>\n",
       "      <td>NaN</td>\n",
       "      <td>NaN</td>\n",
       "    </tr>\n",
       "  </tbody>\n",
       "</table>\n",
       "</div>"
      ],
      "text/plain": [
       "            disease               user   symptom_1              symptom_2  \\\n",
       "0  fungal infection      Dorian Lowery     itching              skin rash   \n",
       "1  fungal infection       Nash Miranda   skin rash   nodal skin eruptions   \n",
       "2  fungal infection  Sopoline Mcintyre     itching   nodal skin eruptions   \n",
       "3  fungal infection         Ray Strong     itching              skin rash   \n",
       "4  fungal infection         Lamar Love     itching              skin rash   \n",
       "\n",
       "               symptom_3             symptom_4 symptom_5 symptom_6 symptom_7  \\\n",
       "0   nodal skin eruptions   dischromic  patches       NaN       NaN       NaN   \n",
       "1    dischromic  patches                   NaN       NaN       NaN       NaN   \n",
       "2    dischromic  patches                   NaN       NaN       NaN       NaN   \n",
       "3    dischromic  patches                   NaN       NaN       NaN       NaN   \n",
       "4   nodal skin eruptions                   NaN       NaN       NaN       NaN   \n",
       "\n",
       "  symptom_8 symptom_9 symptom_10 symptom_11 symptom_12 symptom_13 symptom_14  \\\n",
       "0       NaN       NaN        NaN        NaN        NaN        NaN        NaN   \n",
       "1       NaN       NaN        NaN        NaN        NaN        NaN        NaN   \n",
       "2       NaN       NaN        NaN        NaN        NaN        NaN        NaN   \n",
       "3       NaN       NaN        NaN        NaN        NaN        NaN        NaN   \n",
       "4       NaN       NaN        NaN        NaN        NaN        NaN        NaN   \n",
       "\n",
       "  symptom_15 symptom_16 symptom_17  \n",
       "0        NaN        NaN        NaN  \n",
       "1        NaN        NaN        NaN  \n",
       "2        NaN        NaN        NaN  \n",
       "3        NaN        NaN        NaN  \n",
       "4        NaN        NaN        NaN  "
      ]
     },
     "execution_count": 42,
     "metadata": {},
     "output_type": "execute_result"
    }
   ],
   "source": [
    "df_disease_and_symptom = data_content['disease_symptom.csv']\n",
    "symptom_columns = [x for x in df_disease_and_symptom.columns if x != 'disease']\n",
    "df_disease_and_symptom_and_user = df_disease_and_symptom.join(df_user[['user']], how='outer')\n",
    "df_disease_and_symptom_and_user = df_disease_and_symptom_and_user[['disease', 'user'] + symptom_columns].copy()\n",
    "df_disease_and_symptom_and_user.replace({'nan' : np.nan}, inplace=True)\n",
    "df_disease_and_symptom_and_user.to_csv(dataset_cleaned_path+'disease_and_symptom_and_user_node.csv')\n",
    "print(df_disease_and_symptom_and_user.shape)\n",
    "df_disease_and_symptom_and_user.head()"
   ]
  },
  {
   "attachments": {},
   "cell_type": "markdown",
   "metadata": {},
   "source": [
    "## DISEASE AND USER RELATIONSHIP"
   ]
  },
  {
   "cell_type": "code",
   "execution_count": 43,
   "metadata": {},
   "outputs": [
    {
     "name": "stdout",
     "output_type": "stream",
     "text": [
      "(4913, 2)\n"
     ]
    },
    {
     "data": {
      "text/html": [
       "<div>\n",
       "<style scoped>\n",
       "    .dataframe tbody tr th:only-of-type {\n",
       "        vertical-align: middle;\n",
       "    }\n",
       "\n",
       "    .dataframe tbody tr th {\n",
       "        vertical-align: top;\n",
       "    }\n",
       "\n",
       "    .dataframe thead th {\n",
       "        text-align: right;\n",
       "    }\n",
       "</style>\n",
       "<table border=\"1\" class=\"dataframe\">\n",
       "  <thead>\n",
       "    <tr style=\"text-align: right;\">\n",
       "      <th></th>\n",
       "      <th>disease</th>\n",
       "      <th>user</th>\n",
       "    </tr>\n",
       "  </thead>\n",
       "  <tbody>\n",
       "    <tr>\n",
       "      <th>0</th>\n",
       "      <td>fungal infection</td>\n",
       "      <td>Dorian Lowery</td>\n",
       "    </tr>\n",
       "    <tr>\n",
       "      <th>1</th>\n",
       "      <td>fungal infection</td>\n",
       "      <td>Nash Miranda</td>\n",
       "    </tr>\n",
       "    <tr>\n",
       "      <th>2</th>\n",
       "      <td>fungal infection</td>\n",
       "      <td>Sopoline Mcintyre</td>\n",
       "    </tr>\n",
       "    <tr>\n",
       "      <th>3</th>\n",
       "      <td>fungal infection</td>\n",
       "      <td>Ray Strong</td>\n",
       "    </tr>\n",
       "    <tr>\n",
       "      <th>4</th>\n",
       "      <td>fungal infection</td>\n",
       "      <td>Lamar Love</td>\n",
       "    </tr>\n",
       "  </tbody>\n",
       "</table>\n",
       "</div>"
      ],
      "text/plain": [
       "            disease               user\n",
       "0  fungal infection      Dorian Lowery\n",
       "1  fungal infection       Nash Miranda\n",
       "2  fungal infection  Sopoline Mcintyre\n",
       "3  fungal infection         Ray Strong\n",
       "4  fungal infection         Lamar Love"
      ]
     },
     "execution_count": 43,
     "metadata": {},
     "output_type": "execute_result"
    }
   ],
   "source": [
    "df_disease_and_user = df_disease_and_symptom_and_user[['disease', 'user']].copy()\n",
    "df_disease_and_user.dropna(inplace=True)\n",
    "df_disease_and_user = df_disease_and_user.drop_duplicates().reset_index(drop=True)\n",
    "df_disease_and_user.to_csv(dataset_cleaned_path+'disease_and_user_node.csv')\n",
    "print(df_disease_and_user.shape)\n",
    "df_disease_and_user.head()"
   ]
  },
  {
   "attachments": {},
   "cell_type": "markdown",
   "metadata": {},
   "source": [
    "## SYMPTOM AND USER RELATIONSHIP"
   ]
  },
  {
   "cell_type": "code",
   "execution_count": 44,
   "metadata": {},
   "outputs": [
    {
     "name": "stdout",
     "output_type": "stream",
     "text": [
      "(36594, 2)\n"
     ]
    },
    {
     "data": {
      "text/html": [
       "<div>\n",
       "<style scoped>\n",
       "    .dataframe tbody tr th:only-of-type {\n",
       "        vertical-align: middle;\n",
       "    }\n",
       "\n",
       "    .dataframe tbody tr th {\n",
       "        vertical-align: top;\n",
       "    }\n",
       "\n",
       "    .dataframe thead th {\n",
       "        text-align: right;\n",
       "    }\n",
       "</style>\n",
       "<table border=\"1\" class=\"dataframe\">\n",
       "  <thead>\n",
       "    <tr style=\"text-align: right;\">\n",
       "      <th></th>\n",
       "      <th>user</th>\n",
       "      <th>symptom</th>\n",
       "    </tr>\n",
       "  </thead>\n",
       "  <tbody>\n",
       "    <tr>\n",
       "      <th>0</th>\n",
       "      <td>Aaron Munoz</td>\n",
       "      <td>sweating</td>\n",
       "    </tr>\n",
       "    <tr>\n",
       "      <th>1</th>\n",
       "      <td>Aaron Munoz</td>\n",
       "      <td>weight loss</td>\n",
       "    </tr>\n",
       "  </tbody>\n",
       "</table>\n",
       "</div>"
      ],
      "text/plain": [
       "          user      symptom\n",
       "0  Aaron Munoz     sweating\n",
       "1  Aaron Munoz  weight loss"
      ]
     },
     "execution_count": 44,
     "metadata": {},
     "output_type": "execute_result"
    }
   ],
   "source": [
    "df_user_and_symptom = df_disease_and_symptom_and_user[['user'] + symptom_columns]\n",
    "df_user_and_symptom_list = []\n",
    "for column in symptom_columns:\n",
    "    df = df_user_and_symptom[['user', column]].copy()\n",
    "    df.rename(columns={column : 'symptom'}, inplace=True)\n",
    "    df_user_and_symptom_list.append(df)\n",
    "\n",
    "df_user_and_symptom = pd.concat(df_user_and_symptom_list)\n",
    "df_user_and_symptom.sort_values(by=['user'], inplace=True)\n",
    "df_user_and_symptom.dropna(inplace=True)\n",
    "df_user_and_symptom.reset_index(drop=True, inplace=True)\n",
    "df_user_and_symptom['symptom'] = df_user_and_symptom['symptom'].str.strip()\n",
    "df_user_and_symptom.to_csv(dataset_cleaned_path+'user_and_symptom_node.csv')\n",
    "print(df_user_and_symptom.shape)\n",
    "df_user_and_symptom.head(2)"
   ]
  },
  {
   "attachments": {},
   "cell_type": "markdown",
   "metadata": {},
   "source": [
    "## SYMPTOM AND DISEASE RELATIONSHIP"
   ]
  },
  {
   "cell_type": "code",
   "execution_count": 46,
   "metadata": {},
   "outputs": [
    {
     "name": "stdout",
     "output_type": "stream",
     "text": [
      "(321, 2)\n"
     ]
    },
    {
     "data": {
      "text/html": [
       "<div>\n",
       "<style scoped>\n",
       "    .dataframe tbody tr th:only-of-type {\n",
       "        vertical-align: middle;\n",
       "    }\n",
       "\n",
       "    .dataframe tbody tr th {\n",
       "        vertical-align: top;\n",
       "    }\n",
       "\n",
       "    .dataframe thead th {\n",
       "        text-align: right;\n",
       "    }\n",
       "</style>\n",
       "<table border=\"1\" class=\"dataframe\">\n",
       "  <thead>\n",
       "    <tr style=\"text-align: right;\">\n",
       "      <th></th>\n",
       "      <th>disease</th>\n",
       "      <th>symptom</th>\n",
       "    </tr>\n",
       "  </thead>\n",
       "  <tbody>\n",
       "    <tr>\n",
       "      <th>0</th>\n",
       "      <td>(vertigo) paroymsal  positional vertigo</td>\n",
       "      <td>nausea</td>\n",
       "    </tr>\n",
       "    <tr>\n",
       "      <th>1</th>\n",
       "      <td>(vertigo) paroymsal  positional vertigo</td>\n",
       "      <td>spinning movements</td>\n",
       "    </tr>\n",
       "  </tbody>\n",
       "</table>\n",
       "</div>"
      ],
      "text/plain": [
       "                                   disease             symptom\n",
       "0  (vertigo) paroymsal  positional vertigo              nausea\n",
       "1  (vertigo) paroymsal  positional vertigo  spinning movements"
      ]
     },
     "execution_count": 46,
     "metadata": {},
     "output_type": "execute_result"
    }
   ],
   "source": [
    "df_disease_and_symptom = df_disease_and_symptom_and_user[['disease'] + symptom_columns]\n",
    "df_disease_and_symptom_list = []\n",
    "for column in symptom_columns:\n",
    "    df = df_disease_and_symptom[['disease', column]].copy()\n",
    "    df.rename(columns={column : 'symptom'}, inplace=True)\n",
    "    df_disease_and_symptom_list.append(df)\n",
    "\n",
    "df_disease_and_symptom = pd.concat(df_disease_and_symptom_list)\n",
    "df_disease_and_symptom.sort_values(by=['disease'], inplace=True)\n",
    "df_disease_and_symptom.dropna(inplace=True)\n",
    "df_disease_and_symptom.drop_duplicates(inplace=True)\n",
    "df_disease_and_symptom.reset_index(drop=True, inplace=True)\n",
    "df_disease_and_symptom['symptom'] = df_disease_and_symptom['symptom'].str.strip()\n",
    "df_disease_and_symptom.to_csv(dataset_cleaned_path+'disease_and_symptom_node.csv')\n",
    "print(df_disease_and_symptom.shape)\n",
    "df_disease_and_symptom.head(2)"
   ]
  }
 ],
 "metadata": {
  "kernelspec": {
   "display_name": "Python 3",
   "language": "python",
   "name": "python3"
  },
  "language_info": {
   "codemirror_mode": {
    "name": "ipython",
    "version": 3
   },
   "file_extension": ".py",
   "mimetype": "text/x-python",
   "name": "python",
   "nbconvert_exporter": "python",
   "pygments_lexer": "ipython3",
   "version": "3.10.9"
  },
  "orig_nbformat": 4
 },
 "nbformat": 4,
 "nbformat_minor": 2
}
