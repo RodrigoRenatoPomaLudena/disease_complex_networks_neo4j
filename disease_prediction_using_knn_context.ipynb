{
 "cells": [
  {
   "cell_type": "code",
   "execution_count": 1,
   "metadata": {},
   "outputs": [],
   "source": [
    "import json\n",
    "import numpy as np\n",
    "from numpy.linalg import norm\n",
    "from neo4j import GraphDatabase"
   ]
  },
  {
   "cell_type": "code",
   "execution_count": 2,
   "metadata": {},
   "outputs": [],
   "source": [
    "def cosine_similarity(A, B):\n",
    "    if not A or not B:\n",
    "      return -1\n",
    "    A = np.array(A, dtype=int)\n",
    "    B = np.array(B, dtype=int)\n",
    "    a_ref = A.reshape(-1,1)\n",
    "    b_ref = B.reshape(1,-1)\n",
    "    sim = np.dot(a_ref, b_ref)/(norm(a_ref)*norm(b_ref))\n",
    "    result = sim.mean()\n",
    "    return result"
   ]
  },
  {
   "cell_type": "code",
   "execution_count": null,
   "metadata": {},
   "outputs": [],
   "source": [
    "def compute_knn(item, items, k):\n",
    "  knn_values = []\n",
    "  for other_item in items:\n",
    "      if other_item != item:\n",
    "          value = cosine_similarity(items[item], items[other_item])\n",
    "          if value > 0:\n",
    "              knn_values.append((other_item, value))\n",
    "  knn_values.sort(key=lambda x: -x[1])\n",
    "  return knn_values[:k]"
   ]
  },
  {
   "cell_type": "code",
   "execution_count": null,
   "metadata": {},
   "outputs": [],
   "source": [
    "\"\"\"\n",
    "MATCH (u:User)-[r]-(s:Symptom) \n",
    "RETURN u.user AS user, collect(s.symptom) AS symptoms, collect(toIntegerOrNull(s.weight)) AS weights\n",
    "\"\"\""
   ]
  },
  {
   "cell_type": "code",
   "execution_count": null,
   "metadata": {},
   "outputs": [],
   "source": [
    "\"\"\"\n",
    "MATCH (u:User)-[r]-(s:Symptom) \n",
    "WITH DISTINCT u.user AS user, collect(s.symptom) AS symptoms, collect(toIntegerOrNull(s.weight)) AS weights\n",
    "UNWIND symptoms AS symptom\n",
    "UNWIND weights AS weight\n",
    "CREATE (p:Patient {patient:user, symptom: symptom, weight: weight})\n",
    "\"\"\""
   ]
  },
  {
   "cell_type": "code",
   "execution_count": null,
   "metadata": {},
   "outputs": [],
   "source": [
    "\"\"\"\n",
    "CALL gds.graph.project(\n",
    "    'diseaseGraph',\n",
    "    {\n",
    "        Patient: {\n",
    "            properties: ['user','symptoms','weights']\n",
    "        }\n",
    "    },\n",
    "    '*'\n",
    ");\n",
    "\"\"\""
   ]
  },
  {
   "cell_type": "code",
   "execution_count": null,
   "metadata": {},
   "outputs": [],
   "source": [
    "def get_item_vectors(session, context):\n",
    "    list_of_items_query = \"\"\"\n",
    "            MATCH (u:User)-[r]-(s:Symptom) \n",
    "            RETURN u.user AS user, collect(s.symptom) AS symptoms, collect(toIntegerOrNull(s.weight)) AS weights\n",
    "        \"\"\"\n",
    "    context_info = context[1].copy()\n",
    "    match_query = \"\"\"\n",
    "                MATCH (event:Event)-[:EVENT_ITEM]->(item:Item)\n",
    "                MATCH (event)-[:EVENT_USER]->(user:User)\n",
    "            \"\"\"\n",
    "    where_query = \"\"\"\n",
    "                WHERE u.user = $user\n",
    "            \"\"\"\n",
    "\n",
    "    if \"country\" in context_info:\n",
    "        match_query += \"MATCH (u:User) \"\n",
    "        where_query += \"AND u.country = $country \"\n",
    "\n",
    "    return_query = \"\"\"\n",
    "                WITH user.user as userId, event.rating as rating\n",
    "                ORDER BY id(user)\n",
    "                RETURN collect(distinct userId) as vector \n",
    "            \"\"\"\n",
    "\n",
    "    query = match_query + where_query + return_query\n",
    "    items_VSM_sparse = {}\n",
    "    with session as s:\n",
    "        i = 0\n",
    "        for item in s.run(list_of_items_query):\n",
    "            item_id = item[\"itemId\"]\n",
    "            context_info[\"itemId\"] = item_id\n",
    "            vector = s.run(query, context_info)\n",
    "            items_VSM_sparse[item_id] = vector.single()[0]\n",
    "            i += 1\n",
    "            if i % 100 == 0:\n",
    "                print(i, \"rows processed\")\n",
    "        print(i, \"rows processed\")\n",
    "    print(len(items_VSM_sparse))\n",
    "    return items_VSM_sparse"
   ]
  },
  {
   "cell_type": "code",
   "execution_count": null,
   "metadata": {},
   "outputs": [],
   "source": [
    "def store_knn(item, knn, context, session):\n",
    "  print('saving knn')\n",
    "  context_id = context[0]\n",
    "  params = context[1].copy()\n",
    "  with session as s:\n",
    "      tx = s.begin_transaction()\n",
    "      knnMap = {a: b for a, b in knn}\n",
    "      clean_query = \"\"\"\n",
    "          MATCH (s:Similarity)-[:RELATED_TO_SOURCE_ITEM]->(item:Item)\n",
    "          WHERE item.itemId = $itemId AND s.contextId = $contextId\n",
    "          DETACH DELETE s\n",
    "      \"\"\"\n",
    "\n",
    "      query = \"\"\"\n",
    "          MATCH (item:Item)\n",
    "          WHERE item.itemId = $itemId\n",
    "          UNWIND keys($knn) as otherItemId\n",
    "          MATCH (other:Item)\n",
    "          WHERE other.itemId = otherItemId\n",
    "          CREATE (similarity:Similarity {weight: $knn[otherItemId], contextId: $contextId})\n",
    "          MERGE (item)<-[:RELATED_TO_SOURCE_ITEM]-(similarity)\n",
    "          MERGE (other)<-[:RELATED_TO_DEST_ITEM ]-(similarity)\n",
    "      \"\"\"\n",
    "\n",
    "      if \"location\" in params:\n",
    "          query += \"WITH similarity MATCH (location:Location {value: $location}) \"\n",
    "          query += \"MERGE (location)<-[:RELATED_TO]-(similarity) \"\n",
    "\n",
    "      tx.run(clean_query, {\"itemId\": item, \"contextId\": context_id})\n",
    "      params[\"itemId\"] = item\n",
    "      params[\"contextId\"] = context_id\n",
    "      params[\"knn\"] = knnMap\n",
    "      tx.run(query, params)\n",
    "      tx.commit()"
   ]
  },
  {
   "cell_type": "code",
   "execution_count": null,
   "metadata": {},
   "outputs": [],
   "source": [
    "def compute_and_store_similarity(contexts):\n",
    "  for context in contexts:\n",
    "      items_VSM = get_item_vectors(context)\n",
    "      for item in items_VSM:\n",
    "          knn = compute_knn(item, items_VSM.copy(), 20)\n",
    "          store_knn(item, knn, context)"
   ]
  },
  {
   "cell_type": "code",
   "execution_count": null,
   "metadata": {},
   "outputs": [],
   "source": [
    "with open('config.json', 'r') as f:\n",
    "    credentials = json.load(f)\n",
    "\n",
    "uri = credentials['uri']\n",
    "user = credentials['user']\n",
    "password = credentials['password']\n",
    "driver = GraphDatabase.driver(uri, auth=(user, password))\n",
    "session = driver.session()"
   ]
  }
 ],
 "metadata": {
  "kernelspec": {
   "display_name": "Python 3",
   "language": "python",
   "name": "python3"
  },
  "language_info": {
   "codemirror_mode": {
    "name": "ipython",
    "version": 3
   },
   "file_extension": ".py",
   "mimetype": "text/x-python",
   "name": "python",
   "nbconvert_exporter": "python",
   "pygments_lexer": "ipython3",
   "version": "3.10.9"
  },
  "orig_nbformat": 4
 },
 "nbformat": 4,
 "nbformat_minor": 2
}
