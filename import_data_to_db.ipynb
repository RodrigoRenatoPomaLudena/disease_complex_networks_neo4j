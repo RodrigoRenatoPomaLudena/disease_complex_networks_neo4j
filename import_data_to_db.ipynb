{
 "cells": [
  {
   "cell_type": "code",
   "execution_count": 1,
   "metadata": {},
   "outputs": [],
   "source": [
    "from neo4j import GraphDatabase\n",
    "import time\n",
    "import json"
   ]
  },
  {
   "cell_type": "code",
   "execution_count": 2,
   "metadata": {},
   "outputs": [],
   "source": [
    "with open('config.json', 'r') as f:\n",
    "    credentials = json.load(f)\n",
    "\n",
    "uri = credentials['uri']\n",
    "user = credentials['user']\n",
    "password = credentials['password']"
   ]
  },
  {
   "cell_type": "code",
   "execution_count": 3,
   "metadata": {},
   "outputs": [],
   "source": [
    "def import_data_by_query(auth, query):\n",
    "  driver = GraphDatabase.driver(uri, auth=auth)\n",
    "  s = driver.session()\n",
    "  with s as session:    \n",
    "    tx = session.begin_transaction()\n",
    "    tx.run(query)\n",
    "    tx.commit()"
   ]
  },
  {
   "cell_type": "code",
   "execution_count": 4,
   "metadata": {},
   "outputs": [],
   "source": [
    "query_clear_nodes = \"\"\"MATCH (n) DETACH DELETE n\"\"\"\n",
    "query_clear_constraints = \"\"\"CALL apoc.schema.assert({}, {})\"\"\""
   ]
  },
  {
   "cell_type": "code",
   "execution_count": 5,
   "metadata": {},
   "outputs": [],
   "source": [
    "query_nodes_dict = {}\n",
    "#CREATE DISEASE NODE \n",
    "query_nodes_dict['disease'] = \"\"\"LOAD CSV WITH HEADERS FROM \"https://raw.githubusercontent.com/RodrigoRenatoPomaLudena/disease_complex_networks_neo4j/master/dataset_cleaned/disease_node.csv\" AS row MERGE (disease:Disease {disease:row.disease}) SET disease.description=row.description\"\"\"\n",
    "#CREATE PRECAUTION NODE \n",
    "query_nodes_dict['precaution'] = \"\"\"LOAD CSV WITH HEADERS FROM \"https://raw.githubusercontent.com/RodrigoRenatoPomaLudena/disease_complex_networks_neo4j/master/dataset_cleaned/precaution_node.csv\" AS row MERGE (precaution:Precaution {precaution:row.precaution}) SET precaution.weight=row.weight\"\"\"\n",
    "#CREATE SYMPTOM NODE \n",
    "query_nodes_dict['symptom'] = \"\"\"LOAD CSV WITH HEADERS FROM \"https://raw.githubusercontent.com/RodrigoRenatoPomaLudena/disease_complex_networks_neo4j/master/dataset_cleaned/symptom_node.csv\" AS row MERGE (symptom:Symptom {symptom:row.symptom}) SET symptom.weight=row.weight\"\"\"\n",
    "#CREATE USER NODE \n",
    "query_nodes_dict['user'] = \"\"\"LOAD CSV WITH HEADERS FROM \"https://raw.githubusercontent.com/RodrigoRenatoPomaLudena/disease_complex_networks_neo4j/master/dataset_cleaned/user_node.csv\" AS row MERGE (user:User {user:row.user}) SET user.email=row.email, user.postalZip=row.postalZip, user.region=row.region, user.country=row.country\"\"\""
   ]
  },
  {
   "cell_type": "code",
   "execution_count": 6,
   "metadata": {},
   "outputs": [],
   "source": [
    "query_relationships_dict = {}\n",
    "#CREATE USER AND DISEASE RELATIONSHIP \n",
    "query_relationships_dict['user_disease'] = \"\"\"LOAD CSV WITH HEADERS FROM \"https://raw.githubusercontent.com/RodrigoRenatoPomaLudena/disease_complex_networks_neo4j/master/dataset_cleaned/disease_and_user_node.csv\" AS row MATCH (user:User) WHERE user.user = row.user MATCH (disease:Disease) WHERE disease.disease = row.disease MERGE (user)-[:IS_SICK_WITH]->(disease)\"\"\"\n",
    "#CREATE USER AND SYMPTOM RELATIONSHIP \n",
    "query_relationships_dict['user_symptom'] = \"\"\"LOAD CSV WITH HEADERS FROM \"https://raw.githubusercontent.com/RodrigoRenatoPomaLudena/disease_complex_networks_neo4j/master/dataset_cleaned/user_and_symptom_node.csv\" AS row MATCH (user:User) WHERE user.user = row.user MATCH (symptom:Symptom) WHERE symptom.symptom = row.symptom MERGE (user)-[:PRESENTS]->(symptom)\"\"\"\n",
    "#CREATE DISEASE AND PRECAUTION RELATIONSHIP \n",
    "query_relationships_dict['disease_precaution'] = \"\"\"LOAD CSV WITH HEADERS FROM \"https://raw.githubusercontent.com/RodrigoRenatoPomaLudena/disease_complex_networks_neo4j/master/dataset_cleaned/precaution_and_symptom_node.csv\" AS row MATCH (disease:Disease) WHERE disease.disease = row.disease MATCH (precaution:Precaution) WHERE precaution.precaution = row.precaution MERGE (disease)-[:IS_TREATED_WITH]->(precaution)\"\"\"\n",
    "#CREATE DISEASE AND SYMPTOM RELATIONSHIP \n",
    "query_relationships_dict['disease_symptom'] = \"\"\"LOAD CSV WITH HEADERS FROM \"https://raw.githubusercontent.com/RodrigoRenatoPomaLudena/disease_complex_networks_neo4j/master/dataset_cleaned/disease_and_symptom_node.csv\" AS row MATCH (disease:Disease) WHERE disease.disease = row.disease MATCH (symptom:Symptom) WHERE symptom.symptom = row.symptom MERGE (disease)-[:IS_PRESENTED_BY]->(symptom)\"\"\""
   ]
  },
  {
   "cell_type": "code",
   "execution_count": 7,
   "metadata": {},
   "outputs": [
    {
     "name": "stdout",
     "output_type": "stream",
     "text": [
      "Clearing previous data\n",
      "Loading disease node\n",
      "Loading precaution node\n",
      "Loading symptom node\n",
      "Loading user node\n",
      "Loading user_disease relationship\n",
      "Loading user_symptom relationship\n",
      "Loading disease_precaution relationship\n",
      "Loading disease_symptom relationship\n",
      "Time to complete: 275.68298387527466\n"
     ]
    }
   ],
   "source": [
    "start = time.time()\n",
    "# CLEAR PREVIOUS DATA\n",
    "print(\"Clearing previous data\")\n",
    "import_data_by_query(query=query_clear_nodes, auth=(user, password))\n",
    "import_data_by_query(query=query_clear_constraints, auth=(user, password))\n",
    "# LOAD NODES\n",
    "for query_node in query_nodes_dict:\n",
    "    print(f\"Loading {query_node} node\")\n",
    "    query = query_nodes_dict[query_node]\n",
    "    import_data_by_query(query=query, auth=(user, password))\n",
    "# LOAD RELATIONSHIPS\n",
    "for query_relationship in query_relationships_dict:\n",
    "    print(f\"Loading {query_relationship} relationship\")\n",
    "    query = query_relationships_dict[query_relationship]\n",
    "    import_data_by_query(query=query, auth=(user, password))\n",
    "end = time.time() - start\n",
    "print(\"Time to complete:\", end)"
   ]
  }
 ],
 "metadata": {
  "kernelspec": {
   "display_name": "Python 3",
   "language": "python",
   "name": "python3"
  },
  "language_info": {
   "codemirror_mode": {
    "name": "ipython",
    "version": 3
   },
   "file_extension": ".py",
   "mimetype": "text/x-python",
   "name": "python",
   "nbconvert_exporter": "python",
   "pygments_lexer": "ipython3",
   "version": "3.10.9"
  },
  "orig_nbformat": 4
 },
 "nbformat": 4,
 "nbformat_minor": 2
}
