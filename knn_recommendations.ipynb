{
 "cells": [
  {
   "cell_type": "code",
   "execution_count": 1,
   "metadata": {},
   "outputs": [],
   "source": [
    "import json\n",
    "import pandas as pd\n",
    "import numpy as np\n",
    "from ipywidgets import widgets\n",
    "from numpy.linalg import norm\n",
    "from neo4j import GraphDatabase"
   ]
  },
  {
   "cell_type": "code",
   "execution_count": 2,
   "metadata": {},
   "outputs": [],
   "source": [
    "with open('config.json', 'r') as f:\n",
    "    credentials = json.load(f)\n",
    "\n",
    "uri = credentials['uri']\n",
    "user = credentials['user']\n",
    "password = credentials['password']\n",
    "driver = GraphDatabase.driver(uri, auth=(user, password))\n",
    "#session = driver.session()"
   ]
  },
  {
   "cell_type": "code",
   "execution_count": 3,
   "metadata": {},
   "outputs": [],
   "source": [
    "def get_options(driver):\n",
    "    session = driver.session()\n",
    "    result = []\n",
    "    query = \"\"\"\n",
    "            MATCH (u:User)-[r]-(n:Symptom)\n",
    "            RETURN DISTINCT n.symptom AS symptom, COUNT(u) AS ocurrency\n",
    "            ORDER BY ocurrency DESC\n",
    "        \"\"\"\n",
    "    with session as s:\n",
    "        tx = s.begin_transaction()\n",
    "        for row in tx.run(query):\n",
    "            try:\n",
    "                if row:\n",
    "                    symptom = (row[0]).strip()\n",
    "                    ocurrency = row[1]\n",
    "                    node_dict = {\"symptom\": symptom, \"ocurrency\": ocurrency}\n",
    "                    result.append(node_dict)\n",
    "            except Exception as e:\n",
    "                print(e, row)\n",
    "        tx.commit()\n",
    "    return result"
   ]
  },
  {
   "cell_type": "code",
   "execution_count": 5,
   "metadata": {},
   "outputs": [],
   "source": [
    "options = get_options(driver)"
   ]
  },
  {
   "cell_type": "code",
   "execution_count": 11,
   "metadata": {},
   "outputs": [],
   "source": [
    "options_list = [x['symptom'] for x in options]\n",
    "options_list_top_10 = []\n",
    "for i in range(0, 20): \n",
    "    options_list_top_10.append(options_list[i])"
   ]
  },
  {
   "cell_type": "code",
   "execution_count": 13,
   "metadata": {},
   "outputs": [
    {
     "data": {
      "text/plain": [
       "20"
      ]
     },
     "execution_count": 13,
     "metadata": {},
     "output_type": "execute_result"
    }
   ],
   "source": [
    "len(options_list_top_10)"
   ]
  },
  {
   "cell_type": "code",
   "execution_count": 17,
   "metadata": {},
   "outputs": [
    {
     "data": {
      "application/vnd.jupyter.widget-view+json": {
       "model_id": "cb6d231263ec4975b750a093aac51a3d",
       "version_major": 2,
       "version_minor": 0
      },
      "text/plain": [
       "SelectMultiple(description='Selecciona opciones:', index=(0,), layout=Layout(height='200px'), options=('fatigu…"
      ]
     },
     "metadata": {},
     "output_type": "display_data"
    }
   ],
   "source": [
    "widget_seleccion = widgets.SelectMultiple(\n",
    "    options=options_list_top_10,\n",
    "    value=[options_list_top_10[0]],\n",
    "    description='Selecciona opciones:'\n",
    ")\n",
    "\n",
    "widget_seleccion.layout.height = '200px'\n",
    "display(widget_seleccion)\n"
   ]
  },
  {
   "cell_type": "code",
   "execution_count": 22,
   "metadata": {},
   "outputs": [
    {
     "name": "stdout",
     "output_type": "stream",
     "text": [
      "\n",
      "        WITH ['high fever', 'headache', 'yellowing of eyes'] AS new_symptoms\n",
      "        MATCH (p:Patient)-[s:SIMILAR]-(o:Patient)\n",
      "        WHERE ALL(symptom IN p.symptoms WHERE symptom IN new_symptoms)\n",
      "        RETURN DISTINCT o.disease AS disease, s.score AS similarity\n",
      "        ORDER BY similarity DESC\n",
      "    \n"
     ]
    }
   ],
   "source": [
    "query = \"\"\"\n",
    "        WITH {0} AS new_symptoms\n",
    "        MATCH (p:Patient)-[s:SIMILAR]-(o:Patient)\n",
    "        WHERE ANY(symptom IN p.symptoms WHERE symptom IN new_symptoms)\n",
    "        RETURN DISTINCT o.disease AS disease, s.score AS similarity\n",
    "        ORDER BY similarity DESC\n",
    "    \"\"\"\n",
    "query = query.format([x for x in widget_seleccion.value])\n",
    "print(query)"
   ]
  },
  {
   "cell_type": "code",
   "execution_count": 28,
   "metadata": {},
   "outputs": [],
   "source": [
    "def diagnose(driver,symptoms):\n",
    "    possible_diseases = []\n",
    "    session = driver.session()\n",
    "    query = \"\"\"\n",
    "        WITH {0} AS new_symptoms\n",
    "        MATCH (p:Patient)-[s:SIMILAR]-(o:Patient)\n",
    "        WHERE ANY(symptom IN p.symptoms WHERE symptom IN new_symptoms)\n",
    "        RETURN DISTINCT o.disease AS disease, s.score AS similarity\n",
    "        ORDER BY similarity DESC\n",
    "        LIMIT 20\n",
    "    \"\"\"\n",
    "    query = query.format([x for x in symptoms])\n",
    "    with driver.session() as session:\n",
    "        tx = session.begin_transaction()\n",
    "        for row in tx.run(query):\n",
    "            try:\n",
    "                if row:\n",
    "                    disease = (row[0]).strip()\n",
    "                    similarity = row[1]\n",
    "                    node_dict = {\"disease\": disease, \"similarity\": similarity}\n",
    "                    possible_diseases.append(node_dict)\n",
    "            except Exception as e:\n",
    "                print(e, row)\n",
    "        tx.commit()\n",
    "    return possible_diseases\n",
    "    "
   ]
  },
  {
   "cell_type": "code",
   "execution_count": 29,
   "metadata": {},
   "outputs": [
    {
     "data": {
      "text/plain": [
       "[{'disease': '(vertigo) paroymsal  positional vertigo', 'similarity': 1.0},\n",
       " {'disease': 'hepatitis c', 'similarity': 1.0},\n",
       " {'disease': 'gerd', 'similarity': 1.0},\n",
       " {'disease': 'hypoglycemia', 'similarity': 1.0},\n",
       " {'disease': 'impetigo', 'similarity': 1.0},\n",
       " {'disease': 'common cold', 'similarity': 1.0},\n",
       " {'disease': 'chicken pox', 'similarity': 1.0},\n",
       " {'disease': 'aids', 'similarity': 1.0},\n",
       " {'disease': 'heart attack', 'similarity': 1.0},\n",
       " {'disease': 'paralysis (brain hemorrhage)', 'similarity': 1.0},\n",
       " {'disease': 'gastroenteritis', 'similarity': 1.0},\n",
       " {'disease': 'allergy', 'similarity': 1.0},\n",
       " {'disease': 'typhoid', 'similarity': 1.0},\n",
       " {'disease': 'pneumonia', 'similarity': 1.0},\n",
       " {'disease': 'hepatitis b', 'similarity': 1.0},\n",
       " {'disease': 'chronic cholestasis', 'similarity': 1.0},\n",
       " {'disease': 'peptic ulcer diseae', 'similarity': 1.0},\n",
       " {'disease': 'alcoholic hepatitis', 'similarity': 1.0},\n",
       " {'disease': 'migraine', 'similarity': 1.0},\n",
       " {'disease': 'bronchial asthma', 'similarity': 1.0},\n",
       " {'disease': 'jaundice', 'similarity': 1.0},\n",
       " {'disease': 'hepatitis e', 'similarity': 1.0},\n",
       " {'disease': 'dengue', 'similarity': 1.0},\n",
       " {'disease': 'hepatitis d', 'similarity': 1.0},\n",
       " {'disease': 'tuberculosis', 'similarity': 1.0},\n",
       " {'disease': 'malaria', 'similarity': 1.0},\n",
       " {'disease': 'hepatitis a', 'similarity': 1.0},\n",
       " {'disease': 'common cold', 'similarity': 0.9411764705882353},\n",
       " {'disease': 'tuberculosis', 'similarity': 0.9411764705882353},\n",
       " {'disease': 'tuberculosis', 'similarity': 0.9375},\n",
       " {'disease': 'common cold', 'similarity': 0.9375},\n",
       " {'disease': 'dengue', 'similarity': 0.9285714285714286},\n",
       " {'disease': 'hepatitis e', 'similarity': 0.9230769230769231},\n",
       " {'disease': 'hypoglycemia', 'similarity': 0.9166666666666666},\n",
       " {'disease': 'hepatitis b', 'similarity': 0.9166666666666666},\n",
       " {'disease': 'hepatitis a', 'similarity': 0.9090909090909091},\n",
       " {'disease': 'chicken pox', 'similarity': 0.9090909090909091},\n",
       " {'disease': 'typhoid', 'similarity': 0.9090909090909091},\n",
       " {'disease': 'pneumonia', 'similarity': 0.9090909090909091},\n",
       " {'disease': 'hypoglycemia', 'similarity': 0.9090909090909091},\n",
       " {'disease': 'migraine', 'similarity': 0.8888888888888888},\n",
       " {'disease': 'hepatitis d', 'similarity': 0.8888888888888888},\n",
       " {'disease': 'jaundice', 'similarity': 0.875},\n",
       " {'disease': 'malaria', 'similarity': 0.875},\n",
       " {'disease': 'chronic cholestasis', 'similarity': 0.8571428571428571},\n",
       " {'disease': 'alcoholic hepatitis', 'similarity': 0.8571428571428571},\n",
       " {'disease': 'hepatitis c', 'similarity': 0.8571428571428571},\n",
       " {'disease': '(vertigo) paroymsal  positional vertigo',\n",
       "  'similarity': 0.8333333333333334},\n",
       " {'disease': 'hepatitis b', 'similarity': 0.8333333333333334},\n",
       " {'disease': 'chronic cholestasis', 'similarity': 0.8333333333333334},\n",
       " {'disease': 'hepatitis c', 'similarity': 0.8333333333333334},\n",
       " {'disease': 'peptic ulcer diseae', 'similarity': 0.8333333333333334},\n",
       " {'disease': 'alcoholic hepatitis', 'similarity': 0.8333333333333334},\n",
       " {'disease': 'bronchial asthma', 'similarity': 0.8333333333333334},\n",
       " {'disease': 'impetigo', 'similarity': 0.8},\n",
       " {'disease': 'heart attack', 'similarity': 0.75},\n",
       " {'disease': 'paralysis (brain hemorrhage)', 'similarity': 0.75},\n",
       " {'disease': 'aids', 'similarity': 0.75},\n",
       " {'disease': 'gastroenteritis', 'similarity': 0.75},\n",
       " {'disease': 'impetigo', 'similarity': 0.75}]"
      ]
     },
     "execution_count": 29,
     "metadata": {},
     "output_type": "execute_result"
    }
   ],
   "source": [
    "result = diagnose(driver=driver, symptoms=widget_seleccion.value)\n",
    "result"
   ]
  }
 ],
 "metadata": {
  "kernelspec": {
   "display_name": "Python 3",
   "language": "python",
   "name": "python3"
  },
  "language_info": {
   "codemirror_mode": {
    "name": "ipython",
    "version": 3
   },
   "file_extension": ".py",
   "mimetype": "text/x-python",
   "name": "python",
   "nbconvert_exporter": "python",
   "pygments_lexer": "ipython3",
   "version": "3.10.9"
  },
  "orig_nbformat": 4
 },
 "nbformat": 4,
 "nbformat_minor": 2
}
