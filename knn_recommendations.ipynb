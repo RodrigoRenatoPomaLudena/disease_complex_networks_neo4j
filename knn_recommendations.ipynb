{
 "cells": [
  {
   "cell_type": "code",
   "execution_count": 1,
   "metadata": {},
   "outputs": [],
   "source": [
    "import json\n",
    "import pandas as pd\n",
    "import numpy as np\n",
    "from ipywidgets import widgets\n",
    "from numpy.linalg import norm\n",
    "from neo4j import GraphDatabase"
   ]
  },
  {
   "cell_type": "code",
   "execution_count": null,
   "metadata": {},
   "outputs": [],
   "source": [
    "with open('config.json', 'r') as f:\n",
    "    credentials = json.load(f)\n",
    "\n",
    "uri = credentials['uri']\n",
    "user = credentials['user']\n",
    "password = credentials['password']\n",
    "driver = GraphDatabase.driver(uri, auth=(user, password))\n",
    "#session = driver.session()"
   ]
  },
  {
   "cell_type": "code",
   "execution_count": null,
   "metadata": {},
   "outputs": [],
   "source": [
    "def get_options(driver):\n",
    "    session = driver.session()\n",
    "    result = []\n",
    "    query = \"\"\"\n",
    "            MATCH (u:User)-[r]-(n:Symptom)\n",
    "            RETURN DISTINCT n.symptom AS symptom, COUNT(u) AS ocurrency\n",
    "            ORDER BY ocurrency DESC\n",
    "        \"\"\"\n",
    "    with session as s:\n",
    "        tx = s.begin_transaction()\n",
    "        for row in tx.run(query):\n",
    "            try:\n",
    "                if row:\n",
    "                    symptom = (row[0]).strip()\n",
    "                    ocurrency = row[1]\n",
    "                    node_dict = {\"symptom\": symptom, \"ocurrency\": ocurrency}\n",
    "                    result.append(node_dict)\n",
    "            except Exception as e:\n",
    "                print(e, row)\n",
    "        tx.commit()\n",
    "    return result"
   ]
  },
  {
   "cell_type": "code",
   "execution_count": null,
   "metadata": {},
   "outputs": [],
   "source": [
    "options = get_options()"
   ]
  },
  {
   "cell_type": "code",
   "execution_count": null,
   "metadata": {},
   "outputs": [],
   "source": [
    "widget_seleccion = widgets.SelectMultiple(\n",
    "    options=opciones,\n",
    "    value=[opciones[0]],\n",
    "    description='Selecciona opciones:'\n",
    ")\n",
    "\n",
    "display(widget_seleccion)\n"
   ]
  }
 ],
 "metadata": {
  "kernelspec": {
   "display_name": "Python 3",
   "language": "python",
   "name": "python3"
  },
  "language_info": {
   "codemirror_mode": {
    "name": "ipython",
    "version": 3
   },
   "file_extension": ".py",
   "mimetype": "text/x-python",
   "name": "python",
   "nbconvert_exporter": "python",
   "pygments_lexer": "ipython3",
   "version": "3.10.9"
  },
  "orig_nbformat": 4
 },
 "nbformat": 4,
 "nbformat_minor": 2
}
